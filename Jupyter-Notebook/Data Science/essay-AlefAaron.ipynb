{
 "cells": [
  {
   "cell_type": "markdown",
   "metadata": {},
   "source": [
    "# What to do with audio if you're sick of listening"
   ]
  },
  {
   "cell_type": "markdown",
   "metadata": {},
   "source": [
    "##### By: Aaron Alef (Email: aaron.alef@code.berlin - Slack: [@aaron](https://slack.com/app_redirect?team=T54B2S3T9&channel=U82F166U9))"
   ]
  },
  {
   "cell_type": "markdown",
   "metadata": {},
   "source": [
    "----\n",
    "**In June 2017 Mozilla launched their project [\"Common Voice\"](https://voice.mozilla.org/en) - an open-source project to provide audio data sets for speech recognition to everyone. As of May 2019 it contains over 1000 hours of validated speech in 20 different languages.  \n",
    "So wouldn't it be cool if this could be used to support you in listening, by using it for speech recognition?  \n",
    "The process of doing so is described in the 'Natural Language Processing' Folder - but in order to make use of this data it has to be processed...  \n",
    "This document aims at describing this process with it's facettes and tricks. And it *is* tricky**\n",
    "\n",
    "----"
   ]
  },
  {
   "cell_type": "code",
   "execution_count": null,
   "metadata": {},
   "outputs": [],
   "source": []
  }
 ],
 "metadata": {
  "kernelspec": {
   "display_name": "Python 3",
   "language": "python",
   "name": "python3"
  },
  "language_info": {
   "codemirror_mode": {
    "name": "ipython",
    "version": 3
   },
   "file_extension": ".py",
   "mimetype": "text/x-python",
   "name": "python",
   "nbconvert_exporter": "python",
   "pygments_lexer": "ipython3",
   "version": "3.7.3"
  }
 },
 "nbformat": 4,
 "nbformat_minor": 2
}
