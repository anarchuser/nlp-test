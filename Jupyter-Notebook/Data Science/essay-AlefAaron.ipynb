{
 "cells": [
  {
   "cell_type": "markdown",
   "metadata": {},
   "source": [
    "# What to do with audio if you're sick of listening"
   ]
  },
  {
   "cell_type": "markdown",
   "metadata": {},
   "source": [
    "##### By: Aaron Alef (Email: aaron.alef@code.berlin - Slack: [@aaron](https://slack.com/app_redirect?team=T54B2S3T9&channel=U82F166U9))"
   ]
  },
  {
   "cell_type": "markdown",
   "metadata": {},
   "source": [
    "----\n",
    "**In June 2017 Mozilla launched their project [\"Common Voice\"](https://voice.mozilla.org/en) - an open-source project to provide audio data sets for speech recognition to everyone. As of May 2019 it contains over 1000 hours of validated speech in 20 different languages.  \n",
    "So wouldn't it be cool if this could be used to support you in listening, by using it for speech recognition?  \n",
    "The process of doing so is described in the 'Natural Language Processing' Folder - but in order to make use of this data it has to be processed...  \n",
    "This document aims at describing this process with it's facettes and tricks. And it *is* tricky**\n",
    "\n",
    "----"
   ]
  },
  {
   "cell_type": "markdown",
   "metadata": {},
   "source": [
    "## Introduction\n",
    "\n",
    "Voice is complex.\n",
    "Regardless of whether it's a human or an animal talking, the way they exchange their distinctive sounds can become very complex.  \n",
    "As I showed in the Jupyter Notebook about Natural Language Processing, the sound waves of a simple sentence being spoken looks rather like random data points than something meaningful and yet...  \n",
    "Just listening back to sound tells us it's *not* random data. Thus, the next logic step is doing something with this data. And, what'd be more intuitive than trying to recognize it?  \n",
    "Though in order to achieve what children fail with even after years of training, we need to ask the question, what *is* this data? How is sound stored digitally?  \n",
    "And, of course, we want to look at the data set we've got - What is it, and what can we use it for?\n",
    "\n",
    "Since this notebook is not directly about a problem, I will just visualise the data and see what we can learn from it."
   ]
  },
  {
   "cell_type": "markdown",
   "metadata": {},
   "source": [
    "## Data\n",
    "\n",
    "Since the data sets can be quite large (up to around 20 GB) I recommend that you already start downloading it.  \n",
    "I'll use examples for the english language only, but feel free to test everything in other languages as well.\n",
    "Also, there are a few dependencies that need to be installed in order to run everything."
   ]
  },
  {
   "cell_type": "code",
   "execution_count": 9,
   "metadata": {},
   "outputs": [
    {
     "data": {
      "text/plain": [
       "0"
      ]
     },
     "execution_count": 9,
     "metadata": {},
     "output_type": "execute_result"
    }
   ],
   "source": [
    "COMMAND = \"pip install --user -r ../../requirements.txt\"\n",
    "\n",
    "from os import system\n",
    "system(COMMAND)"
   ]
  },
  {
   "cell_type": "markdown",
   "metadata": {},
   "source": [
    "You can either download it [here](https://voice.mozilla.org/en/datasets) or using the python script below:"
   ]
  },
  {
   "cell_type": "code",
   "execution_count": 1,
   "metadata": {},
   "outputs": [
    {
     "name": "stdout",
     "output_type": "stream",
     "text": [
      "Downloading a new data set in English to ./en\n",
      "from https://voice-prod-bundler-ee1969a6ce8178826482b88e843c335139bd3fb4.s3.amazonaws.com/cv-corpus-1/en.tar.gz...\n"
     ]
    },
    {
     "name": "stderr",
     "output_type": "stream",
     "text": [
      "202705it [00:02, 99898.93it/s] "
     ]
    },
    {
     "name": "stdout",
     "output_type": "stream",
     "text": [
      "Interrupted by user.\n"
     ]
    },
    {
     "ename": "SystemExit",
     "evalue": "1",
     "output_type": "error",
     "traceback": [
      "An exception has occurred, use %tb to see the full traceback.\n",
      "\u001b[0;31mSystemExit\u001b[0m\u001b[0;31m:\u001b[0m 1\n"
     ]
    },
    {
     "name": "stderr",
     "output_type": "stream",
     "text": [
      "/usr/lib/python3.7/site-packages/IPython/core/interactiveshell.py:3304: UserWarning: To exit: use 'exit', 'quit', or Ctrl-D.\n",
      "  warn(\"To exit: use 'exit', 'quit', or Ctrl-D.\", stacklevel=1)\n"
     ]
    }
   ],
   "source": [
    "from transcription import prepare\n",
    "\n",
    "LANG='en'\n",
    "prepare.Prepare(LANG, mode=\"download\", show_progress=False)"
   ]
  },
  {
   "cell_type": "markdown",
   "metadata": {},
   "source": [
    "### Sound\n",
    "\n",
    "But let's go away from the data set for now, and focus shortly on what voice is made up and how it's stored on a computer.\n",
    "\n",
    "Sound consists of sonic waves transmitted over a medium, mostly air. We can capture it using analog sensors, that is, a microphone.  \n",
    "Since we can't store waves (as waves are expanding oscillations) we need to find a way around that - which is called sampling. We take samples every few microseconds, at a so-called sample rate given in hertz and store this in a continous stream. We can look at this stream by loading an audio file (I've taken file a from the NLP notebook).\n",
    "Also, we can load a tsv file containing the audio in order to get some more information about it. I've taken the `validated.tsv` file as it contains all audio clips which we're validated by other people."
   ]
  },
  {
   "cell_type": "code",
   "execution_count": 1,
   "metadata": {},
   "outputs": [],
   "source": [
    "from transcription import visualise\n",
    "from os.path import join\n",
    "\n",
    "# TODO: Location of unzipped project:\n",
    "PATH_TO_PROJECT = \"\"\n",
    "\n",
    "FILE = \"77c44851bac797d08b5724fcd0412c0a073f7888adc34a5ab588669e08319729647c4bc28e10a4b0609a7cdd15016f91e5a945314fab8392e4225df53744e51f.mp3\"\n",
    "TABLE = \"validated.tsv\"\n",
    "\n",
    "audio = visualise.Visualise(join(PATH_TO_PROJECT, \"clips\", FILE), tsv=join(PATH_TO_PROJECT, TABLE))"
   ]
  },
  {
   "cell_type": "markdown",
   "metadata": {},
   "source": [
    "We can now look at the sampled data, the sample rate and its metadata stored in the validated.tsv:"
   ]
  },
  {
   "cell_type": "code",
   "execution_count": 2,
   "metadata": {},
   "outputs": [
    {
     "name": "stdout",
     "output_type": "stream",
     "text": [
      "Sample Rate of the audio file: 22050\n",
      "[-0.01885764 -0.0272058  -0.0357662  -0.04296669 -0.04838737 -0.04560987\n",
      " -0.0375044  -0.02255747 -0.00750283  0.00444547  0.01054961  0.00404552\n",
      " -0.02160558 -0.06494284 -0.11601822 -0.15945661 -0.18460864 -0.18714596\n",
      " -0.16486757 -0.11757588]\n"
     ]
    },
    {
     "data": {
      "text/html": [
       "<div>\n",
       "<style scoped>\n",
       "    .dataframe tbody tr th:only-of-type {\n",
       "        vertical-align: middle;\n",
       "    }\n",
       "\n",
       "    .dataframe tbody tr th {\n",
       "        vertical-align: top;\n",
       "    }\n",
       "\n",
       "    .dataframe thead th {\n",
       "        text-align: right;\n",
       "    }\n",
       "</style>\n",
       "<table border=\"1\" class=\"dataframe\">\n",
       "  <thead>\n",
       "    <tr style=\"text-align: right;\">\n",
       "      <th></th>\n",
       "      <th>client_id</th>\n",
       "      <th>path</th>\n",
       "      <th>sentence</th>\n",
       "      <th>up_votes</th>\n",
       "      <th>down_votes</th>\n",
       "      <th>age</th>\n",
       "      <th>gender</th>\n",
       "      <th>accent</th>\n",
       "    </tr>\n",
       "  </thead>\n",
       "  <tbody>\n",
       "    <tr>\n",
       "      <th>2247</th>\n",
       "      <td>1f316ddca02594b5010fdecbe8c071bccbd29375500b13161ca26afe4737fa013101d69cb09eff35293238e7b14075018231b70abdba72fec1c3a4adbd7efaab</td>\n",
       "      <td>77c44851bac797d08b5724fcd0412c0a073f7888adc34a5ab588669e08319729647c4bc28e10a4b0609a7cdd15016f91e5a945314fab8392e4225df53744e51f</td>\n",
       "      <td>One of the first problems you'll run into is recognition errors, particularly with any command that allows raw dictation.</td>\n",
       "      <td>2</td>\n",
       "      <td>0</td>\n",
       "      <td>NaN</td>\n",
       "      <td>NaN</td>\n",
       "      <td>NaN</td>\n",
       "    </tr>\n",
       "  </tbody>\n",
       "</table>\n",
       "</div>"
      ],
      "text/plain": [
       "                                                                                                                             client_id  \\\n",
       "2247  1f316ddca02594b5010fdecbe8c071bccbd29375500b13161ca26afe4737fa013101d69cb09eff35293238e7b14075018231b70abdba72fec1c3a4adbd7efaab   \n",
       "\n",
       "                                                                                                                                  path  \\\n",
       "2247  77c44851bac797d08b5724fcd0412c0a073f7888adc34a5ab588669e08319729647c4bc28e10a4b0609a7cdd15016f91e5a945314fab8392e4225df53744e51f   \n",
       "\n",
       "                                                                                                                       sentence  \\\n",
       "2247  One of the first problems you'll run into is recognition errors, particularly with any command that allows raw dictation.   \n",
       "\n",
       "      up_votes  down_votes  age gender accent  \n",
       "2247         2           0  NaN    NaN    NaN  "
      ]
     },
     "execution_count": 2,
     "metadata": {},
     "output_type": "execute_result"
    }
   ],
   "source": [
    "sr = audio.sample_rate\n",
    "\n",
    "print(\"Sample Rate of the audio file: \" + str(sr))\n",
    "\n",
    "# Print 20 samples starting at the fifth second:\n",
    "print(audio.data[(5*sr) : (5*sr + 20)])\n",
    "\n",
    "# Show the table entry of the audio file:\n",
    "audio.metadata"
   ]
  },
  {
   "cell_type": "markdown",
   "metadata": {},
   "source": [
    "Also, we might want to listen to it:"
   ]
  },
  {
   "cell_type": "code",
   "execution_count": 3,
   "metadata": {},
   "outputs": [],
   "source": [
    "audio.play()"
   ]
  },
  {
   "cell_type": "markdown",
   "metadata": {},
   "source": [
    "And, to come back at what I said earlier, here a look at a diagram showing sampled audio:"
   ]
  },
  {
   "cell_type": "code",
   "execution_count": 4,
   "metadata": {},
   "outputs": [
    {
     "data": {
      "text/plain": [
       "<matplotlib.legend.Legend at 0x7f92b1bad1d0>"
      ]
     },
     "execution_count": 4,
     "metadata": {},
     "output_type": "execute_result"
    },
    {
     "name": "stderr",
     "output_type": "stream",
     "text": [
      "/usr/lib/python3.7/site-packages/IPython/core/events.py:88: UserWarning: Creating legend with loc=\"best\" can be slow with large amounts of data.\n",
      "  func(*args, **kwargs)\n",
      "/usr/lib/python3.7/site-packages/IPython/core/pylabtools.py:128: UserWarning: Creating legend with loc=\"best\" can be slow with large amounts of data.\n",
      "  fig.canvas.print_figure(bytes_io, **kw)\n"
     ]
    },
    {
     "data": {
      "image/png": "[encoded data removed]",
      "text/plain": [
       "<Figure size 432x288 with 1 Axes>"
      ]
     },
     "metadata": {
      "needs_background": "light"
     },
     "output_type": "display_data"
    }
   ],
   "source": [
    "# Plot the samples of both audio files\n",
    "import matplotlib.pyplot as plt\n",
    "\n",
    "plt.plot(audio.data, 'b', label='audio')\n",
    "plt.xlabel(\"Samples\")\n",
    "plt.ylabel(\"Amplitude\")\n",
    "plt.legend()"
   ]
  },
  {
   "cell_type": "markdown",
   "metadata": {},
   "source": [
    "### Data set\n",
    "\n",
    "Let's get back to the data set.  \n",
    "I've already shown one line in it without explaining, so... what does it show?"
   ]
  },
  {
   "cell_type": "code",
   "execution_count": 5,
   "metadata": {},
   "outputs": [
    {
     "data": {
      "text/plain": [
       "array(['client_id', 'path', 'sentence', 'up_votes', 'down_votes', 'age',\n",
       "       'gender', 'accent'], dtype=object)"
      ]
     },
     "execution_count": 5,
     "metadata": {},
     "output_type": "execute_result"
    }
   ],
   "source": [
    "import pandas as pd\n",
    "\n",
    "table = pd.read_csv(join(PATH_TO_PROJECT, TABLE), sep='\\t')\n",
    "table.columns.values"
   ]
  },
  {
   "cell_type": "markdown",
   "metadata": {},
   "source": [
    "The most important thing of those for *speech recognition* is the **path**, which is our key for the audio clip, and the **sentence**, containing the actual label of the audio file.  \n",
    "But there's more:\n",
    "* The **client id** is a unique identification number every contributor gets. \n",
    "* The **up** and **down votes** are telling us whether the people who listened to us liked it or not.\n",
    "* **Age** is a rough estimate at the age of the speaker; it's not given for everyone and not 100% accurate, but gives a nice estimate\n",
    "* The **gender** is also not given for everyone, but should otherwise be self-explanatory\n",
    "* The **accent** might give a clue where the person comes from - the german set, for example, provides a few clips from switzerland which are also labeled that way\n",
    "\n",
    "If we use `pandas`'s built in `describe` function, we see numerical explanations of the numbers used in the table, which is the up and down votes:"
   ]
  },
  {
   "cell_type": "code",
   "execution_count": 6,
   "metadata": {},
   "outputs": [
    {
     "data": {
      "text/html": [
       "<div>\n",
       "<style scoped>\n",
       "    .dataframe tbody tr th:only-of-type {\n",
       "        vertical-align: middle;\n",
       "    }\n",
       "\n",
       "    .dataframe tbody tr th {\n",
       "        vertical-align: top;\n",
       "    }\n",
       "\n",
       "    .dataframe thead th {\n",
       "        text-align: right;\n",
       "    }\n",
       "</style>\n",
       "<table border=\"1\" class=\"dataframe\">\n",
       "  <thead>\n",
       "    <tr style=\"text-align: right;\">\n",
       "      <th></th>\n",
       "      <th>up_votes</th>\n",
       "      <th>down_votes</th>\n",
       "    </tr>\n",
       "  </thead>\n",
       "  <tbody>\n",
       "    <tr>\n",
       "      <th>count</th>\n",
       "      <td>490483.000000</td>\n",
       "      <td>490483.000000</td>\n",
       "    </tr>\n",
       "    <tr>\n",
       "      <th>mean</th>\n",
       "      <td>2.653558</td>\n",
       "      <td>0.196910</td>\n",
       "    </tr>\n",
       "    <tr>\n",
       "      <th>std</th>\n",
       "      <td>7.408856</td>\n",
       "      <td>1.125418</td>\n",
       "    </tr>\n",
       "    <tr>\n",
       "      <th>min</th>\n",
       "      <td>2.000000</td>\n",
       "      <td>0.000000</td>\n",
       "    </tr>\n",
       "    <tr>\n",
       "      <th>25%</th>\n",
       "      <td>2.000000</td>\n",
       "      <td>0.000000</td>\n",
       "    </tr>\n",
       "    <tr>\n",
       "      <th>50%</th>\n",
       "      <td>2.000000</td>\n",
       "      <td>0.000000</td>\n",
       "    </tr>\n",
       "    <tr>\n",
       "      <th>75%</th>\n",
       "      <td>3.000000</td>\n",
       "      <td>0.000000</td>\n",
       "    </tr>\n",
       "    <tr>\n",
       "      <th>max</th>\n",
       "      <td>1613.000000</td>\n",
       "      <td>528.000000</td>\n",
       "    </tr>\n",
       "  </tbody>\n",
       "</table>\n",
       "</div>"
      ],
      "text/plain": [
       "            up_votes     down_votes\n",
       "count  490483.000000  490483.000000\n",
       "mean        2.653558       0.196910\n",
       "std         7.408856       1.125418\n",
       "min         2.000000       0.000000\n",
       "25%         2.000000       0.000000\n",
       "50%         2.000000       0.000000\n",
       "75%         3.000000       0.000000\n",
       "max      1613.000000     528.000000"
      ]
     },
     "execution_count": 6,
     "metadata": {},
     "output_type": "execute_result"
    }
   ],
   "source": [
    "table.describe()"
   ]
  },
  {
   "cell_type": "markdown",
   "metadata": {},
   "source": [
    "This let's us get an overview overwhat the numbers mean:\n",
    "\n",
    "Even though we have an average of only 2.65 up votes per clip, the numbers go up to 1613.  \n",
    "Luckily, for the down votes the numbers are a lot smaller, with an average of under 0.2 votes per clip.\n",
    "\n",
    "But of course we can also look at the other fields:"
   ]
  },
  {
   "cell_type": "code",
   "execution_count": 7,
   "metadata": {},
   "outputs": [
    {
     "data": {
      "text/plain": [
       "client_id     490483\n",
       "path          490483\n",
       "sentence      490480\n",
       "up_votes      490483\n",
       "down_votes    490483\n",
       "age           249443\n",
       "gender        250749\n",
       "accent        215116\n",
       "dtype: int64"
      ]
     },
     "execution_count": 7,
     "metadata": {},
     "output_type": "execute_result"
    }
   ],
   "source": [
    "table.count()"
   ]
  },
  {
   "cell_type": "markdown",
   "metadata": {},
   "source": [
    "What might look weird at the first glance is a fact I mentioned above: not every audio clip is fully labeled, and pandas automatically excludes missing entries from the count."
   ]
  },
  {
   "cell_type": "code",
   "execution_count": 17,
   "metadata": {},
   "outputs": [
    {
     "data": {
      "image/png": "[encoded data removed]",
      "text/plain": [
       "<Figure size 432x288 with 1 Axes>"
      ]
     },
     "metadata": {
      "needs_background": "light"
     },
     "output_type": "display_data"
    },
    {
     "data": {
      "image/png": "[encoded data removed]",
      "text/plain": [
       "<Figure size 432x288 with 1 Axes>"
      ]
     },
     "metadata": {
      "needs_background": "light"
     },
     "output_type": "display_data"
    },
    {
     "data": {
      "image/png": "[encoded data removed]",
      "text/plain": [
       "<Figure size 432x288 with 1 Axes>"
      ]
     },
     "metadata": {
      "needs_background": "light"
     },
     "output_type": "display_data"
    }
   ],
   "source": [
    "# Plot Everything except client id, path and sentence, as those are mostly unique\n",
    "# (the client id not directly, but you still don't want to have it plotted)\n",
    "visualise.bar_graph(table.age)\n",
    "visualise.bar_graph(table.gender)\n",
    "visualise.bar_graph(table.accent)"
   ]
  },
  {
   "cell_type": "markdown",
   "metadata": {},
   "source": [
    "----\n",
    "## Conclusion\n",
    "\n",
    "So, it's very interesting to work with bigger data sets, even if you're *not* using them for speech recognition.  \n",
    "Sadly, a lot of the data is not known, but it still shows some very interesting graphs\n",
    "\n",
    "----"
   ]
  },
  {
   "cell_type": "markdown",
   "metadata": {},
   "source": [
    "## References\n",
    "* https://www.talend.com/resources/what-is-data-processing/\n",
    "* https://pandas.pydata.org/pandas-docs/stable/index.html"
   ]
  },
  {
   "cell_type": "code",
   "execution_count": null,
   "metadata": {},
   "outputs": [],
   "source": []
  }
 ],
 "metadata": {
  "kernelspec": {
   "display_name": "Python 3",
   "language": "python",
   "name": "python3"
  },
  "language_info": {
   "codemirror_mode": {
    "name": "ipython",
    "version": 3
   },
   "file_extension": ".py",
   "mimetype": "text/x-python",
   "name": "python",
   "nbconvert_exporter": "python",
   "pygments_lexer": "ipython3",
   "version": "3.7.3"
  }
 },
 "nbformat": 4,
 "nbformat_minor": 2
}
